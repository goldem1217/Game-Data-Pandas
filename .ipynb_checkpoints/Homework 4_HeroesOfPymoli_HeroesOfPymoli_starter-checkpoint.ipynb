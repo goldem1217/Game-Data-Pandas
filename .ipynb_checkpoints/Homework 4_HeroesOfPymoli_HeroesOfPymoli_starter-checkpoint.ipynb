{
 "cells": [
  {
   "cell_type": "markdown",
   "metadata": {},
   "source": [
    "### Note\n",
    "* Instructions have been included for each segment. You do not have to follow them exactly, but they are included to help you think through the steps."
   ]
  },
  {
   "cell_type": "code",
   "execution_count": 220,
   "metadata": {},
   "outputs": [
    {
     "data": {
      "text/html": [
       "<div>\n",
       "<style scoped>\n",
       "    .dataframe tbody tr th:only-of-type {\n",
       "        vertical-align: middle;\n",
       "    }\n",
       "\n",
       "    .dataframe tbody tr th {\n",
       "        vertical-align: top;\n",
       "    }\n",
       "\n",
       "    .dataframe thead th {\n",
       "        text-align: right;\n",
       "    }\n",
       "</style>\n",
       "<table border=\"1\" class=\"dataframe\">\n",
       "  <thead>\n",
       "    <tr style=\"text-align: right;\">\n",
       "      <th></th>\n",
       "      <th>Purchase ID</th>\n",
       "      <th>SN</th>\n",
       "      <th>Age</th>\n",
       "      <th>Gender</th>\n",
       "      <th>Item ID</th>\n",
       "      <th>Item Name</th>\n",
       "      <th>Price</th>\n",
       "    </tr>\n",
       "  </thead>\n",
       "  <tbody>\n",
       "    <tr>\n",
       "      <th>0</th>\n",
       "      <td>0</td>\n",
       "      <td>Lisim78</td>\n",
       "      <td>20</td>\n",
       "      <td>Male</td>\n",
       "      <td>108</td>\n",
       "      <td>Extraction, Quickblade Of Trembling Hands</td>\n",
       "      <td>3.53</td>\n",
       "    </tr>\n",
       "    <tr>\n",
       "      <th>1</th>\n",
       "      <td>1</td>\n",
       "      <td>Lisovynya38</td>\n",
       "      <td>40</td>\n",
       "      <td>Male</td>\n",
       "      <td>143</td>\n",
       "      <td>Frenzied Scimitar</td>\n",
       "      <td>1.56</td>\n",
       "    </tr>\n",
       "    <tr>\n",
       "      <th>2</th>\n",
       "      <td>2</td>\n",
       "      <td>Ithergue48</td>\n",
       "      <td>24</td>\n",
       "      <td>Male</td>\n",
       "      <td>92</td>\n",
       "      <td>Final Critic</td>\n",
       "      <td>4.88</td>\n",
       "    </tr>\n",
       "    <tr>\n",
       "      <th>3</th>\n",
       "      <td>3</td>\n",
       "      <td>Chamassasya86</td>\n",
       "      <td>24</td>\n",
       "      <td>Male</td>\n",
       "      <td>100</td>\n",
       "      <td>Blindscythe</td>\n",
       "      <td>3.27</td>\n",
       "    </tr>\n",
       "    <tr>\n",
       "      <th>4</th>\n",
       "      <td>4</td>\n",
       "      <td>Iskosia90</td>\n",
       "      <td>23</td>\n",
       "      <td>Male</td>\n",
       "      <td>131</td>\n",
       "      <td>Fury</td>\n",
       "      <td>1.44</td>\n",
       "    </tr>\n",
       "  </tbody>\n",
       "</table>\n",
       "</div>"
      ],
      "text/plain": [
       "   Purchase ID             SN  Age Gender  Item ID  \\\n",
       "0            0        Lisim78   20   Male      108   \n",
       "1            1    Lisovynya38   40   Male      143   \n",
       "2            2     Ithergue48   24   Male       92   \n",
       "3            3  Chamassasya86   24   Male      100   \n",
       "4            4      Iskosia90   23   Male      131   \n",
       "\n",
       "                                   Item Name  Price  \n",
       "0  Extraction, Quickblade Of Trembling Hands   3.53  \n",
       "1                          Frenzied Scimitar   1.56  \n",
       "2                               Final Critic   4.88  \n",
       "3                                Blindscythe   3.27  \n",
       "4                                       Fury   1.44  "
      ]
     },
     "execution_count": 220,
     "metadata": {},
     "output_type": "execute_result"
    }
   ],
   "source": [
    "import pandas as pd\n",
    "import numpy as np\n",
    "\n",
    "herodata = \"herodata.csv\"\n",
    "\n",
    "#read file as dataframe\n",
    "hero_data_df = pd.read_csv(herodata)\n",
    "\n",
    "hero_data_df.head()"
   ]
  },
  {
   "cell_type": "markdown",
   "metadata": {},
   "source": [
    "## Player Count"
   ]
  },
  {
   "cell_type": "markdown",
   "metadata": {},
   "source": [
    "* Display the total number of players\n",
    "\n"
   ]
  },
  {
   "cell_type": "code",
   "execution_count": 294,
   "metadata": {},
   "outputs": [
    {
     "data": {
      "text/plain": [
       "576"
      ]
     },
     "execution_count": 294,
     "metadata": {},
     "output_type": "execute_result"
    }
   ],
   "source": [
    "#PLAYER COUNT\n",
    "\n",
    "hero_data_df.dropna()\n",
    "players = hero_data_df[\"SN\"].unique()\n",
    "player_count = len(players)\n",
    "player_count"
   ]
  },
  {
   "cell_type": "markdown",
   "metadata": {},
   "source": [
    "## Purchasing Analysis (Total)"
   ]
  },
  {
   "cell_type": "markdown",
   "metadata": {},
   "source": [
    "* Run basic calculations to obtain number of unique items, average price, etc.\n",
    "\n",
    "\n",
    "* Create a summary data frame to hold the results\n",
    "\n",
    "\n",
    "* Optional: give the displayed data cleaner formatting\n",
    "\n",
    "\n",
    "* Display the summary data frame\n"
   ]
  },
  {
   "cell_type": "code",
   "execution_count": 222,
   "metadata": {},
   "outputs": [],
   "source": [
    "#PURCHASE ANALYSIS\n",
    "\n",
    "#find number of unique items\n",
    "item_list = hero_data_df[\"Item ID\"].unique()\n",
    "unique_items = len(item_list)\n",
    "\n",
    "#find average item price\n",
    "average_price = hero_data_df[\"Price\"].mean()\n",
    "\n",
    "#find number of purchases\n",
    "purchase_number = len(hero_data_df)\n",
    "\n",
    "#find total revenue\n",
    "total_revenue = hero_data_df[\"Price\"].sum()"
   ]
  },
  {
   "cell_type": "code",
   "execution_count": 223,
   "metadata": {
    "scrolled": false
   },
   "outputs": [
    {
     "data": {
      "text/html": [
       "<style  type=\"text/css\" >\n",
       "</style><table id=\"T_4b0b9e78_cf70_11e9_98c7_f82819c80724\" ><thead>    <tr>        <th class=\"blank level0\" ></th>        <th class=\"col_heading level0 col0\" >Average Item Price</th>        <th class=\"col_heading level0 col1\" >Number of Purchases</th>        <th class=\"col_heading level0 col2\" >Number of Unique Items</th>        <th class=\"col_heading level0 col3\" >Total Revenue</th>    </tr></thead><tbody>\n",
       "                <tr>\n",
       "                        <th id=\"T_4b0b9e78_cf70_11e9_98c7_f82819c80724level0_row0\" class=\"row_heading level0 row0\" >0</th>\n",
       "                        <td id=\"T_4b0b9e78_cf70_11e9_98c7_f82819c80724row0_col0\" class=\"data row0 col0\" >$3.05</td>\n",
       "                        <td id=\"T_4b0b9e78_cf70_11e9_98c7_f82819c80724row0_col1\" class=\"data row0 col1\" >780</td>\n",
       "                        <td id=\"T_4b0b9e78_cf70_11e9_98c7_f82819c80724row0_col2\" class=\"data row0 col2\" >183</td>\n",
       "                        <td id=\"T_4b0b9e78_cf70_11e9_98c7_f82819c80724row0_col3\" class=\"data row0 col3\" >$2379.77</td>\n",
       "            </tr>\n",
       "    </tbody></table>"
      ],
      "text/plain": [
       "<pandas.io.formats.style.Styler at 0x206736c4f60>"
      ]
     },
     "execution_count": 223,
     "metadata": {},
     "output_type": "execute_result"
    }
   ],
   "source": [
    "#create and format summary dataframe #1\n",
    "purchasing_analysis = [{\"Number of Unique Items\":unique_items,\n",
    "                          \"Average Item Price\":average_price,\n",
    "                          \"Number of Purchases\":purchase_number,\n",
    "                          \"Total Revenue\":total_revenue}]\n",
    "\n",
    "purchasing_analysis = pd.DataFrame(purchasing_analysis).style.format({\"Average Item Price\":\"${:.2f}\",\n",
    "                                                                      \"Total Revenue\": \"${:.2f}\"})\n",
    "\n",
    "purchasing_analysis"
   ]
  },
  {
   "cell_type": "markdown",
   "metadata": {},
   "source": [
    "## Gender Demographics"
   ]
  },
  {
   "cell_type": "markdown",
   "metadata": {},
   "source": [
    "* Percentage and Count of Male Players\n",
    "\n",
    "\n",
    "* Percentage and Count of Female Players\n",
    "\n",
    "\n",
    "* Percentage and Count of Other / Non-Disclosed\n",
    "\n",
    "\n"
   ]
  },
  {
   "cell_type": "code",
   "execution_count": 224,
   "metadata": {},
   "outputs": [
    {
     "data": {
      "text/html": [
       "<style  type=\"text/css\" >\n",
       "</style><table id=\"T_4c3c5330_cf70_11e9_8a8a_f82819c80724\" ><thead>    <tr>        <th class=\"blank level0\" ></th>        <th class=\"col_heading level0 col0\" >Total Count</th>        <th class=\"col_heading level0 col1\" >Percentage of Players</th>    </tr>    <tr>        <th class=\"index_name level0\" >Gender</th>        <th class=\"blank\" ></th>        <th class=\"blank\" ></th>    </tr></thead><tbody>\n",
       "                <tr>\n",
       "                        <th id=\"T_4c3c5330_cf70_11e9_8a8a_f82819c80724level0_row0\" class=\"row_heading level0 row0\" >Female</th>\n",
       "                        <td id=\"T_4c3c5330_cf70_11e9_8a8a_f82819c80724row0_col0\" class=\"data row0 col0\" >81</td>\n",
       "                        <td id=\"T_4c3c5330_cf70_11e9_8a8a_f82819c80724row0_col1\" class=\"data row0 col1\" >14.06%</td>\n",
       "            </tr>\n",
       "            <tr>\n",
       "                        <th id=\"T_4c3c5330_cf70_11e9_8a8a_f82819c80724level0_row1\" class=\"row_heading level0 row1\" >Male</th>\n",
       "                        <td id=\"T_4c3c5330_cf70_11e9_8a8a_f82819c80724row1_col0\" class=\"data row1 col0\" >484</td>\n",
       "                        <td id=\"T_4c3c5330_cf70_11e9_8a8a_f82819c80724row1_col1\" class=\"data row1 col1\" >84.03%</td>\n",
       "            </tr>\n",
       "            <tr>\n",
       "                        <th id=\"T_4c3c5330_cf70_11e9_8a8a_f82819c80724level0_row2\" class=\"row_heading level0 row2\" >Other / Non-Disclosed</th>\n",
       "                        <td id=\"T_4c3c5330_cf70_11e9_8a8a_f82819c80724row2_col0\" class=\"data row2 col0\" >11</td>\n",
       "                        <td id=\"T_4c3c5330_cf70_11e9_8a8a_f82819c80724row2_col1\" class=\"data row2 col1\" >1.91%</td>\n",
       "            </tr>\n",
       "    </tbody></table>"
      ],
      "text/plain": [
       "<pandas.io.formats.style.Styler at 0x20674792828>"
      ]
     },
     "execution_count": 224,
     "metadata": {},
     "output_type": "execute_result"
    }
   ],
   "source": [
    "#GENDER DEMOGRAPHICS\n",
    "\n",
    "#drop duplicate usernames to get accurate counts\n",
    "unduplicated = hero_data_df.drop_duplicates([\"SN\"])\n",
    "\n",
    "#find total counts and percentages\n",
    "gender_counts = unduplicated.groupby([\"Gender\"]).count()\n",
    "gender_counts = gender_counts[\"SN\"]\n",
    "\n",
    "gender_percents = (gender_counts/player_count)*100\n",
    "\n",
    "#put them together\n",
    "gender_demographics = {\"Total Count\":gender_counts,\n",
    "                       \"Percentage of Players\":gender_percents}\n",
    "\n",
    "gender_demographics = pd.DataFrame(gender_demographics).style.format({\"Percentage of Players\":\"{:.2f}%\"})\n",
    "\n",
    "gender_demographics"
   ]
  },
  {
   "cell_type": "markdown",
   "metadata": {},
   "source": [
    "\n",
    "## Purchasing Analysis (Gender)"
   ]
  },
  {
   "cell_type": "markdown",
   "metadata": {},
   "source": [
    "* Run basic calculations to obtain purchase count, avg. purchase price, avg. purchase total per person etc. by gender\n",
    "\n",
    "\n",
    "\n",
    "\n",
    "* Create a summary data frame to hold the results\n",
    "\n",
    "\n",
    "* Optional: give the displayed data cleaner formatting\n",
    "\n",
    "\n",
    "* Display the summary data frame"
   ]
  },
  {
   "cell_type": "code",
   "execution_count": 225,
   "metadata": {},
   "outputs": [
    {
     "data": {
      "text/html": [
       "<style  type=\"text/css\" >\n",
       "</style><table id=\"T_4d475c98_cf70_11e9_aefd_f82819c80724\" ><thead>    <tr>        <th class=\"blank level0\" ></th>        <th class=\"col_heading level0 col0\" >Number of Purchases</th>        <th class=\"col_heading level0 col1\" >Total Expenditure</th>        <th class=\"col_heading level0 col2\" >Avg. Purchase Amount</th>        <th class=\"col_heading level0 col3\" >Avg. Expenditure Per Player</th>    </tr>    <tr>        <th class=\"index_name level0\" >Gender</th>        <th class=\"blank\" ></th>        <th class=\"blank\" ></th>        <th class=\"blank\" ></th>        <th class=\"blank\" ></th>    </tr></thead><tbody>\n",
       "                <tr>\n",
       "                        <th id=\"T_4d475c98_cf70_11e9_aefd_f82819c80724level0_row0\" class=\"row_heading level0 row0\" >Female</th>\n",
       "                        <td id=\"T_4d475c98_cf70_11e9_aefd_f82819c80724row0_col0\" class=\"data row0 col0\" >113</td>\n",
       "                        <td id=\"T_4d475c98_cf70_11e9_aefd_f82819c80724row0_col1\" class=\"data row0 col1\" >$361.94</td>\n",
       "                        <td id=\"T_4d475c98_cf70_11e9_aefd_f82819c80724row0_col2\" class=\"data row0 col2\" >$3.20</td>\n",
       "                        <td id=\"T_4d475c98_cf70_11e9_aefd_f82819c80724row0_col3\" class=\"data row0 col3\" >$4.47</td>\n",
       "            </tr>\n",
       "            <tr>\n",
       "                        <th id=\"T_4d475c98_cf70_11e9_aefd_f82819c80724level0_row1\" class=\"row_heading level0 row1\" >Male</th>\n",
       "                        <td id=\"T_4d475c98_cf70_11e9_aefd_f82819c80724row1_col0\" class=\"data row1 col0\" >652</td>\n",
       "                        <td id=\"T_4d475c98_cf70_11e9_aefd_f82819c80724row1_col1\" class=\"data row1 col1\" >$1967.64</td>\n",
       "                        <td id=\"T_4d475c98_cf70_11e9_aefd_f82819c80724row1_col2\" class=\"data row1 col2\" >$3.02</td>\n",
       "                        <td id=\"T_4d475c98_cf70_11e9_aefd_f82819c80724row1_col3\" class=\"data row1 col3\" >$4.07</td>\n",
       "            </tr>\n",
       "            <tr>\n",
       "                        <th id=\"T_4d475c98_cf70_11e9_aefd_f82819c80724level0_row2\" class=\"row_heading level0 row2\" >Other / Non-Disclosed</th>\n",
       "                        <td id=\"T_4d475c98_cf70_11e9_aefd_f82819c80724row2_col0\" class=\"data row2 col0\" >15</td>\n",
       "                        <td id=\"T_4d475c98_cf70_11e9_aefd_f82819c80724row2_col1\" class=\"data row2 col1\" >$50.19</td>\n",
       "                        <td id=\"T_4d475c98_cf70_11e9_aefd_f82819c80724row2_col2\" class=\"data row2 col2\" >$3.35</td>\n",
       "                        <td id=\"T_4d475c98_cf70_11e9_aefd_f82819c80724row2_col3\" class=\"data row2 col3\" >$4.56</td>\n",
       "            </tr>\n",
       "    </tbody></table>"
      ],
      "text/plain": [
       "<pandas.io.formats.style.Styler at 0x206736c8b00>"
      ]
     },
     "execution_count": 225,
     "metadata": {},
     "output_type": "execute_result"
    }
   ],
   "source": [
    "#PURCHASE ANALYSIS (GENDER)\n",
    "\n",
    "gp_counts = hero_data_df.groupby([\"Gender\"]).count()\n",
    "gp_sums = hero_data_df.groupby([\"Gender\"]).sum()\n",
    "\n",
    "#Purchase counts (pc) by gender\n",
    "g_pc = gp_counts[\"SN\"]\n",
    "\n",
    "#Total purchases (tp) by gender\n",
    "g_tp = gp_sums[\"Price\"]\n",
    "\n",
    "#Average purchase price (avg) by gender\n",
    "g_avg = g_tp/g_pc\n",
    "\n",
    "#Average purchase total (apt) by player and gender\n",
    "g_apt = g_tp/gender_counts\n",
    "\n",
    "#Create and format dataframe\n",
    "gender_analysis = {\"Number of Purchases\":g_pc,\n",
    "                  \"Total Expenditure\":g_tp,\n",
    "                  \"Avg. Purchase Amount\":g_avg,\n",
    "                  \"Avg. Expenditure Per Player\":g_apt}\n",
    "\n",
    "gender_analysis = pd.DataFrame(gender_analysis).style.format({\"Total Expenditure\":\"${:.2f}\",\n",
    "                                                             \"Avg. Purchase Amount\":\"${:.2f}\",\n",
    "                                                             \"Avg. Expenditure Per Player\":\"${:.2f}\"})\n",
    "\n",
    "gender_analysis"
   ]
  },
  {
   "cell_type": "markdown",
   "metadata": {},
   "source": [
    "## Age Demographics"
   ]
  },
  {
   "cell_type": "markdown",
   "metadata": {},
   "source": [
    "* Establish bins for ages\n",
    "\n",
    "\n",
    "* Categorize the existing players using the age bins. Hint: use pd.cut()\n",
    "\n",
    "\n",
    "* Calculate the numbers and percentages by age group\n",
    "\n",
    "\n",
    "* Create a summary data frame to hold the results\n",
    "\n",
    "\n",
    "* Optional: round the percentage column to two decimal points\n",
    "\n",
    "\n",
    "* Display Age Demographics Table\n"
   ]
  },
  {
   "cell_type": "code",
   "execution_count": 228,
   "metadata": {},
   "outputs": [
    {
     "data": {
      "text/html": [
       "<style  type=\"text/css\" >\n",
       "</style><table id=\"T_0c32eecc_cf71_11e9_9226_f82819c80724\" ><thead>    <tr>        <th class=\"blank level0\" ></th>        <th class=\"col_heading level0 col0\" >Total Count</th>        <th class=\"col_heading level0 col1\" >Percentage of Players</th>    </tr>    <tr>        <th class=\"index_name level0\" >Age Group</th>        <th class=\"blank\" ></th>        <th class=\"blank\" ></th>    </tr></thead><tbody>\n",
       "                <tr>\n",
       "                        <th id=\"T_0c32eecc_cf71_11e9_9226_f82819c80724level0_row0\" class=\"row_heading level0 row0\" ><10</th>\n",
       "                        <td id=\"T_0c32eecc_cf71_11e9_9226_f82819c80724row0_col0\" class=\"data row0 col0\" >24</td>\n",
       "                        <td id=\"T_0c32eecc_cf71_11e9_9226_f82819c80724row0_col1\" class=\"data row0 col1\" >4.17%</td>\n",
       "            </tr>\n",
       "            <tr>\n",
       "                        <th id=\"T_0c32eecc_cf71_11e9_9226_f82819c80724level0_row1\" class=\"row_heading level0 row1\" >11-20</th>\n",
       "                        <td id=\"T_0c32eecc_cf71_11e9_9226_f82819c80724row1_col0\" class=\"data row1 col0\" >191</td>\n",
       "                        <td id=\"T_0c32eecc_cf71_11e9_9226_f82819c80724row1_col1\" class=\"data row1 col1\" >33.16%</td>\n",
       "            </tr>\n",
       "            <tr>\n",
       "                        <th id=\"T_0c32eecc_cf71_11e9_9226_f82819c80724level0_row2\" class=\"row_heading level0 row2\" >21-30</th>\n",
       "                        <td id=\"T_0c32eecc_cf71_11e9_9226_f82819c80724row2_col0\" class=\"data row2 col0\" >291</td>\n",
       "                        <td id=\"T_0c32eecc_cf71_11e9_9226_f82819c80724row2_col1\" class=\"data row2 col1\" >50.52%</td>\n",
       "            </tr>\n",
       "            <tr>\n",
       "                        <th id=\"T_0c32eecc_cf71_11e9_9226_f82819c80724level0_row3\" class=\"row_heading level0 row3\" >31-40</th>\n",
       "                        <td id=\"T_0c32eecc_cf71_11e9_9226_f82819c80724row3_col0\" class=\"data row3 col0\" >63</td>\n",
       "                        <td id=\"T_0c32eecc_cf71_11e9_9226_f82819c80724row3_col1\" class=\"data row3 col1\" >10.94%</td>\n",
       "            </tr>\n",
       "            <tr>\n",
       "                        <th id=\"T_0c32eecc_cf71_11e9_9226_f82819c80724level0_row4\" class=\"row_heading level0 row4\" >>40</th>\n",
       "                        <td id=\"T_0c32eecc_cf71_11e9_9226_f82819c80724row4_col0\" class=\"data row4 col0\" >7</td>\n",
       "                        <td id=\"T_0c32eecc_cf71_11e9_9226_f82819c80724row4_col1\" class=\"data row4 col1\" >1.22%</td>\n",
       "            </tr>\n",
       "    </tbody></table>"
      ],
      "text/plain": [
       "<pandas.io.formats.style.Styler at 0x206747805f8>"
      ]
     },
     "execution_count": 228,
     "metadata": {},
     "output_type": "execute_result"
    }
   ],
   "source": [
    "#AGE DEMOGRAPHICS\n",
    "\n",
    "#find max age to create a flexible range & create a bin range\n",
    "max_age = hero_data_df['Age'].max()\n",
    "bins = np.arange(0,max_age+10,10)\n",
    "\n",
    "#make labels for the bins after checking how many bins are in the bin range\n",
    "labels = [\"<10\",\"11-20\",\"21-30\",\"31-40\",\">40\"]\n",
    "\n",
    "#put the data into the bins\n",
    "age_bins = pd.cut(hero_data_df['Age'], bins, labels=labels)\n",
    "\n",
    "#make a new column for the dataframe\n",
    "hero_data_df[\"Age Group\"] = age_bins\n",
    "\n",
    "#total counts for each age group\n",
    "#percentage of players for each age group\n",
    "unique_ages = hero_data_df.drop_duplicates([\"SN\"])\n",
    "\n",
    "age_counts = unique_ages.groupby([\"Age Group\"]).count()\n",
    "age_percents = (age_counts[\"Price\"]/player_count)*100\n",
    "\n",
    "age_demographics = {\"Total Count\":age_counts[\"Price\"],\n",
    "                    \"Percentage of Players\":age_percents}\n",
    "\n",
    "age_demographics = pd.DataFrame(age_demographics).style.format({\"Percentage of Players\": \"{:.2f}%\"})\n",
    "age_demographics"
   ]
  },
  {
   "cell_type": "markdown",
   "metadata": {},
   "source": [
    "## Purchasing Analysis (Age)"
   ]
  },
  {
   "cell_type": "markdown",
   "metadata": {},
   "source": [
    "* Bin the purchase_data data frame by age\n",
    "\n",
    "\n",
    "* Run basic calculations to obtain purchase count, avg. purchase price, avg. purchase total per person etc. in the table below\n",
    "\n",
    "\n",
    "* Create a summary data frame to hold the results\n",
    "\n",
    "\n",
    "* Optional: give the displayed data cleaner formatting\n",
    "\n",
    "\n",
    "* Display the summary data frame"
   ]
  },
  {
   "cell_type": "code",
   "execution_count": 232,
   "metadata": {},
   "outputs": [
    {
     "data": {
      "text/html": [
       "<style  type=\"text/css\" >\n",
       "</style><table id=\"T_79f27168_cf71_11e9_9e78_f82819c80724\" ><thead>    <tr>        <th class=\"blank level0\" ></th>        <th class=\"col_heading level0 col0\" >Number of Purchases</th>        <th class=\"col_heading level0 col1\" >Total Expenditure</th>        <th class=\"col_heading level0 col2\" >Avg. Purchase Price</th>        <th class=\"col_heading level0 col3\" >Avg. Expenditure Per Player</th>    </tr>    <tr>        <th class=\"index_name level0\" >Age Group</th>        <th class=\"blank\" ></th>        <th class=\"blank\" ></th>        <th class=\"blank\" ></th>        <th class=\"blank\" ></th>    </tr></thead><tbody>\n",
       "                <tr>\n",
       "                        <th id=\"T_79f27168_cf71_11e9_9e78_f82819c80724level0_row0\" class=\"row_heading level0 row0\" ><10</th>\n",
       "                        <td id=\"T_79f27168_cf71_11e9_9e78_f82819c80724row0_col0\" class=\"data row0 col0\" >32</td>\n",
       "                        <td id=\"T_79f27168_cf71_11e9_9e78_f82819c80724row0_col1\" class=\"data row0 col1\" >$108.96</td>\n",
       "                        <td id=\"T_79f27168_cf71_11e9_9e78_f82819c80724row0_col2\" class=\"data row0 col2\" >$3.40</td>\n",
       "                        <td id=\"T_79f27168_cf71_11e9_9e78_f82819c80724row0_col3\" class=\"data row0 col3\" >$4.54</td>\n",
       "            </tr>\n",
       "            <tr>\n",
       "                        <th id=\"T_79f27168_cf71_11e9_9e78_f82819c80724level0_row1\" class=\"row_heading level0 row1\" >11-20</th>\n",
       "                        <td id=\"T_79f27168_cf71_11e9_9e78_f82819c80724row1_col0\" class=\"data row1 col0\" >254</td>\n",
       "                        <td id=\"T_79f27168_cf71_11e9_9e78_f82819c80724row1_col1\" class=\"data row1 col1\" >$778.16</td>\n",
       "                        <td id=\"T_79f27168_cf71_11e9_9e78_f82819c80724row1_col2\" class=\"data row1 col2\" >$3.06</td>\n",
       "                        <td id=\"T_79f27168_cf71_11e9_9e78_f82819c80724row1_col3\" class=\"data row1 col3\" >$4.07</td>\n",
       "            </tr>\n",
       "            <tr>\n",
       "                        <th id=\"T_79f27168_cf71_11e9_9e78_f82819c80724level0_row2\" class=\"row_heading level0 row2\" >21-30</th>\n",
       "                        <td id=\"T_79f27168_cf71_11e9_9e78_f82819c80724row2_col0\" class=\"data row2 col0\" >402</td>\n",
       "                        <td id=\"T_79f27168_cf71_11e9_9e78_f82819c80724row2_col1\" class=\"data row2 col1\" >$1203.06</td>\n",
       "                        <td id=\"T_79f27168_cf71_11e9_9e78_f82819c80724row2_col2\" class=\"data row2 col2\" >$2.99</td>\n",
       "                        <td id=\"T_79f27168_cf71_11e9_9e78_f82819c80724row2_col3\" class=\"data row2 col3\" >$4.13</td>\n",
       "            </tr>\n",
       "            <tr>\n",
       "                        <th id=\"T_79f27168_cf71_11e9_9e78_f82819c80724level0_row3\" class=\"row_heading level0 row3\" >31-40</th>\n",
       "                        <td id=\"T_79f27168_cf71_11e9_9e78_f82819c80724row3_col0\" class=\"data row3 col0\" >85</td>\n",
       "                        <td id=\"T_79f27168_cf71_11e9_9e78_f82819c80724row3_col1\" class=\"data row3 col1\" >$268.06</td>\n",
       "                        <td id=\"T_79f27168_cf71_11e9_9e78_f82819c80724row3_col2\" class=\"data row3 col2\" >$3.15</td>\n",
       "                        <td id=\"T_79f27168_cf71_11e9_9e78_f82819c80724row3_col3\" class=\"data row3 col3\" >$4.25</td>\n",
       "            </tr>\n",
       "            <tr>\n",
       "                        <th id=\"T_79f27168_cf71_11e9_9e78_f82819c80724level0_row4\" class=\"row_heading level0 row4\" >>40</th>\n",
       "                        <td id=\"T_79f27168_cf71_11e9_9e78_f82819c80724row4_col0\" class=\"data row4 col0\" >7</td>\n",
       "                        <td id=\"T_79f27168_cf71_11e9_9e78_f82819c80724row4_col1\" class=\"data row4 col1\" >$21.53</td>\n",
       "                        <td id=\"T_79f27168_cf71_11e9_9e78_f82819c80724row4_col2\" class=\"data row4 col2\" >$3.08</td>\n",
       "                        <td id=\"T_79f27168_cf71_11e9_9e78_f82819c80724row4_col3\" class=\"data row4 col3\" >$3.08</td>\n",
       "            </tr>\n",
       "    </tbody></table>"
      ],
      "text/plain": [
       "<pandas.io.formats.style.Styler at 0x206747a32b0>"
      ]
     },
     "execution_count": 232,
     "metadata": {},
     "output_type": "execute_result"
    }
   ],
   "source": [
    "#PURCHASE ANALYSIS (AGE)\n",
    "\n",
    "#use full df with age group column\n",
    "ap_counts = hero_data_df.groupby([\"Age Group\"]).count()\n",
    "ap_sums = hero_data_df.groupby([\"Age Group\"]).sum()\n",
    "\n",
    "#purchase count (pc)\n",
    "a_pc = ap_counts[\"SN\"]\n",
    "\n",
    "#total purchase value (tpv)\n",
    "a_tpv = ap_sums[\"Price\"]\n",
    "\n",
    "#average purchase price (avg)\n",
    "a_avg = a_tpv/a_pc\n",
    "\n",
    "#average purchase total per person (apt)\n",
    "a_apt = a_tpv/age_counts[\"Price\"]\n",
    "\n",
    "\n",
    "#create and format dataframe\n",
    "age_analysis = {\"Number of Purchases\":a_pc,\n",
    "                \"Total Expenditure\":a_tpv,\n",
    "                \"Avg. Purchase Price\":a_avg,\n",
    "                \"Avg. Expenditure Per Player\":a_apt}\n",
    "\n",
    "age_analysis = pd.DataFrame(age_analysis).style.format({\"Avg. Purchase Price\": \"${:.2f}\", \n",
    "                                                              \"Total Expenditure\": \"${:.2f}\",\n",
    "                                                              \"Avg. Expenditure Per Player\": \"${:.2f}\"})\n",
    "age_analysis\n"
   ]
  },
  {
   "cell_type": "markdown",
   "metadata": {},
   "source": [
    "* Run basic calculations to obtain the results in the table below\n",
    "\n",
    "\n",
    "* Create a summary data frame to hold the results\n",
    "\n",
    "\n",
    "* Sort the total purchase value column in descending order\n",
    "\n",
    "\n",
    "* Optional: give the displayed data cleaner formatting\n",
    "\n",
    "\n",
    "* Display a preview of the summary data frame\n",
    "\n"
   ]
  },
  {
   "cell_type": "code",
   "execution_count": 291,
   "metadata": {},
   "outputs": [
    {
     "data": {
      "text/html": [
       "<style  type=\"text/css\" >\n",
       "</style><table id=\"T_08bbcb9c_cf77_11e9_ad6e_f82819c80724\" ><thead>    <tr>        <th class=\"blank level0\" ></th>        <th class=\"col_heading level0 col0\" >Number of Purchases</th>        <th class=\"col_heading level0 col1\" >Avg. Purchase Price</th>        <th class=\"col_heading level0 col2\" >Total Expenditure</th>    </tr>    <tr>        <th class=\"index_name level0\" >SN</th>        <th class=\"blank\" ></th>        <th class=\"blank\" ></th>        <th class=\"blank\" ></th>    </tr></thead><tbody>\n",
       "                <tr>\n",
       "                        <th id=\"T_08bbcb9c_cf77_11e9_ad6e_f82819c80724level0_row0\" class=\"row_heading level0 row0\" >Lisosia93</th>\n",
       "                        <td id=\"T_08bbcb9c_cf77_11e9_ad6e_f82819c80724row0_col0\" class=\"data row0 col0\" >5</td>\n",
       "                        <td id=\"T_08bbcb9c_cf77_11e9_ad6e_f82819c80724row0_col1\" class=\"data row0 col1\" >$3.79</td>\n",
       "                        <td id=\"T_08bbcb9c_cf77_11e9_ad6e_f82819c80724row0_col2\" class=\"data row0 col2\" >$18.96</td>\n",
       "            </tr>\n",
       "            <tr>\n",
       "                        <th id=\"T_08bbcb9c_cf77_11e9_ad6e_f82819c80724level0_row1\" class=\"row_heading level0 row1\" >Idastidru52</th>\n",
       "                        <td id=\"T_08bbcb9c_cf77_11e9_ad6e_f82819c80724row1_col0\" class=\"data row1 col0\" >4</td>\n",
       "                        <td id=\"T_08bbcb9c_cf77_11e9_ad6e_f82819c80724row1_col1\" class=\"data row1 col1\" >$3.86</td>\n",
       "                        <td id=\"T_08bbcb9c_cf77_11e9_ad6e_f82819c80724row1_col2\" class=\"data row1 col2\" >$15.45</td>\n",
       "            </tr>\n",
       "            <tr>\n",
       "                        <th id=\"T_08bbcb9c_cf77_11e9_ad6e_f82819c80724level0_row2\" class=\"row_heading level0 row2\" >Chamjask73</th>\n",
       "                        <td id=\"T_08bbcb9c_cf77_11e9_ad6e_f82819c80724row2_col0\" class=\"data row2 col0\" >3</td>\n",
       "                        <td id=\"T_08bbcb9c_cf77_11e9_ad6e_f82819c80724row2_col1\" class=\"data row2 col1\" >$4.61</td>\n",
       "                        <td id=\"T_08bbcb9c_cf77_11e9_ad6e_f82819c80724row2_col2\" class=\"data row2 col2\" >$13.83</td>\n",
       "            </tr>\n",
       "            <tr>\n",
       "                        <th id=\"T_08bbcb9c_cf77_11e9_ad6e_f82819c80724level0_row3\" class=\"row_heading level0 row3\" >Iral74</th>\n",
       "                        <td id=\"T_08bbcb9c_cf77_11e9_ad6e_f82819c80724row3_col0\" class=\"data row3 col0\" >4</td>\n",
       "                        <td id=\"T_08bbcb9c_cf77_11e9_ad6e_f82819c80724row3_col1\" class=\"data row3 col1\" >$3.40</td>\n",
       "                        <td id=\"T_08bbcb9c_cf77_11e9_ad6e_f82819c80724row3_col2\" class=\"data row3 col2\" >$13.62</td>\n",
       "            </tr>\n",
       "            <tr>\n",
       "                        <th id=\"T_08bbcb9c_cf77_11e9_ad6e_f82819c80724level0_row4\" class=\"row_heading level0 row4\" >Iskadarya95</th>\n",
       "                        <td id=\"T_08bbcb9c_cf77_11e9_ad6e_f82819c80724row4_col0\" class=\"data row4 col0\" >3</td>\n",
       "                        <td id=\"T_08bbcb9c_cf77_11e9_ad6e_f82819c80724row4_col1\" class=\"data row4 col1\" >$4.37</td>\n",
       "                        <td id=\"T_08bbcb9c_cf77_11e9_ad6e_f82819c80724row4_col2\" class=\"data row4 col2\" >$13.10</td>\n",
       "            </tr>\n",
       "    </tbody></table>"
      ],
      "text/plain": [
       "<pandas.io.formats.style.Styler at 0x206747a4cc0>"
      ]
     },
     "execution_count": 291,
     "metadata": {},
     "output_type": "execute_result"
    }
   ],
   "source": [
    "#BIG SPENDERS\n",
    "\n",
    "#Isolate the top five spenders\n",
    "total_spent = hero_data_df.groupby([\"SN\"]).sum()\n",
    "\n",
    "big_spenders = total_spent[\"Price\"].sort_values(ascending=False).head()\n",
    "\n",
    "player_names = big_spenders.index\n",
    "\n",
    "top_five = hero_data_df.loc[hero_data_df[\"SN\"].isin(player_names)]\n",
    "\n",
    "#Get the Purchase Count, Average Purchase Price, and Total Purchase Value for each\n",
    "bs_counts = top_five.groupby([\"SN\"]).count()\n",
    "bs_sums = top_five.groupby([\"SN\"]).sum()\n",
    "\n",
    "#purchase count (pc)\n",
    "s_pc = bs_counts[\"Age\"]\n",
    "\n",
    "#Total Purchase Value (tpv)\n",
    "s_tpv = bs_sums[\"Price\"]\n",
    "\n",
    "#Average purchase price (avg)\n",
    "s_avg = s_tpv/s_pc\n",
    "\n",
    "#Create, sort, and format dataframe\n",
    "top_analysis = {\"Number of Purchases\":s_pc,\n",
    "                \"Avg. Purchase Price\":s_avg,\n",
    "                \"Total Expenditure\":s_tpv}\n",
    "\n",
    "\n",
    "top_analysis = pd.DataFrame(top_analysis).sort_values(by=[\"Total Expenditure\"],ascending=False)\n",
    "\n",
    "top_analysis = top_analysis.style.format({\"Avg. Purchase Price\": \"${:.2f}\", \n",
    "                                          \"Total Expenditure\": \"${:.2f}\"})\n",
    "\n",
    "top_analysis "
   ]
  },
  {
   "cell_type": "markdown",
   "metadata": {},
   "source": [
    "## Most Popular Items"
   ]
  },
  {
   "cell_type": "markdown",
   "metadata": {},
   "source": [
    "* Retrieve the Item ID, Item Name, and Item Price columns\n",
    "\n",
    "\n",
    "* Group by Item ID and Item Name. Perform calculations to obtain purchase count, item price, and total purchase value\n",
    "\n",
    "\n",
    "* Create a summary data frame to hold the results\n",
    "\n",
    "\n",
    "* Sort the purchase count column in descending order\n",
    "\n",
    "\n",
    "* Optional: give the displayed data cleaner formatting\n",
    "\n",
    "\n",
    "* Display a preview of the summary data frame\n",
    "\n"
   ]
  },
  {
   "cell_type": "code",
   "execution_count": 358,
   "metadata": {},
   "outputs": [
    {
     "data": {
      "text/html": [
       "<style  type=\"text/css\" >\n",
       "</style><table id=\"T_615302b6_cf7e_11e9_be8c_f82819c80724\" ><thead>    <tr>        <th class=\"blank\" ></th>        <th class=\"blank level0\" ></th>        <th class=\"col_heading level0 col0\" >Purchase Count</th>        <th class=\"col_heading level0 col1\" >Item Price</th>        <th class=\"col_heading level0 col2\" >Total Purchase Value</th>    </tr>    <tr>        <th class=\"index_name level0\" >Item ID</th>        <th class=\"index_name level1\" >Item Name</th>        <th class=\"blank\" ></th>        <th class=\"blank\" ></th>        <th class=\"blank\" ></th>    </tr></thead><tbody>\n",
       "                <tr>\n",
       "                        <th id=\"T_615302b6_cf7e_11e9_be8c_f82819c80724level0_row0\" class=\"row_heading level0 row0\" >178</th>\n",
       "                        <th id=\"T_615302b6_cf7e_11e9_be8c_f82819c80724level1_row0\" class=\"row_heading level1 row0\" >Oathbreaker, Last Hope of the Breaking Storm</th>\n",
       "                        <td id=\"T_615302b6_cf7e_11e9_be8c_f82819c80724row0_col0\" class=\"data row0 col0\" >12</td>\n",
       "                        <td id=\"T_615302b6_cf7e_11e9_be8c_f82819c80724row0_col1\" class=\"data row0 col1\" >$4.23</td>\n",
       "                        <td id=\"T_615302b6_cf7e_11e9_be8c_f82819c80724row0_col2\" class=\"data row0 col2\" >$50.76</td>\n",
       "            </tr>\n",
       "            <tr>\n",
       "                        <th id=\"T_615302b6_cf7e_11e9_be8c_f82819c80724level0_row1\" class=\"row_heading level0 row1\" >145</th>\n",
       "                        <th id=\"T_615302b6_cf7e_11e9_be8c_f82819c80724level1_row1\" class=\"row_heading level1 row1\" >Fiery Glass Crusader</th>\n",
       "                        <td id=\"T_615302b6_cf7e_11e9_be8c_f82819c80724row1_col0\" class=\"data row1 col0\" >9</td>\n",
       "                        <td id=\"T_615302b6_cf7e_11e9_be8c_f82819c80724row1_col1\" class=\"data row1 col1\" >$4.58</td>\n",
       "                        <td id=\"T_615302b6_cf7e_11e9_be8c_f82819c80724row1_col2\" class=\"data row1 col2\" >$41.22</td>\n",
       "            </tr>\n",
       "            <tr>\n",
       "                        <th id=\"T_615302b6_cf7e_11e9_be8c_f82819c80724level0_row2\" class=\"row_heading level0 row2\" >108</th>\n",
       "                        <th id=\"T_615302b6_cf7e_11e9_be8c_f82819c80724level1_row2\" class=\"row_heading level1 row2\" >Extraction, Quickblade Of Trembling Hands</th>\n",
       "                        <td id=\"T_615302b6_cf7e_11e9_be8c_f82819c80724row2_col0\" class=\"data row2 col0\" >9</td>\n",
       "                        <td id=\"T_615302b6_cf7e_11e9_be8c_f82819c80724row2_col1\" class=\"data row2 col1\" >$3.53</td>\n",
       "                        <td id=\"T_615302b6_cf7e_11e9_be8c_f82819c80724row2_col2\" class=\"data row2 col2\" >$31.77</td>\n",
       "            </tr>\n",
       "            <tr>\n",
       "                        <th id=\"T_615302b6_cf7e_11e9_be8c_f82819c80724level0_row3\" class=\"row_heading level0 row3\" >82</th>\n",
       "                        <th id=\"T_615302b6_cf7e_11e9_be8c_f82819c80724level1_row3\" class=\"row_heading level1 row3\" >Nirvana</th>\n",
       "                        <td id=\"T_615302b6_cf7e_11e9_be8c_f82819c80724row3_col0\" class=\"data row3 col0\" >9</td>\n",
       "                        <td id=\"T_615302b6_cf7e_11e9_be8c_f82819c80724row3_col1\" class=\"data row3 col1\" >$4.90</td>\n",
       "                        <td id=\"T_615302b6_cf7e_11e9_be8c_f82819c80724row3_col2\" class=\"data row3 col2\" >$44.10</td>\n",
       "            </tr>\n",
       "            <tr>\n",
       "                        <th id=\"T_615302b6_cf7e_11e9_be8c_f82819c80724level0_row4\" class=\"row_heading level0 row4\" >19</th>\n",
       "                        <th id=\"T_615302b6_cf7e_11e9_be8c_f82819c80724level1_row4\" class=\"row_heading level1 row4\" >Pursuit, Cudgel of Necromancy</th>\n",
       "                        <td id=\"T_615302b6_cf7e_11e9_be8c_f82819c80724row4_col0\" class=\"data row4 col0\" >8</td>\n",
       "                        <td id=\"T_615302b6_cf7e_11e9_be8c_f82819c80724row4_col1\" class=\"data row4 col1\" >$1.02</td>\n",
       "                        <td id=\"T_615302b6_cf7e_11e9_be8c_f82819c80724row4_col2\" class=\"data row4 col2\" >$8.16</td>\n",
       "            </tr>\n",
       "    </tbody></table>"
      ],
      "text/plain": [
       "<pandas.io.formats.style.Styler at 0x20674851240>"
      ]
     },
     "execution_count": 358,
     "metadata": {},
     "output_type": "execute_result"
    }
   ],
   "source": [
    "#POPULAR ITEMS\n",
    "\n",
    "most_popular = hero_data_df.drop(columns=[\"Purchase ID\",\"Age\",\"Gender\",\"Age Group\",\"SN\"])\n",
    "\n",
    "mp_counts = most_popular.groupby([\"Item ID\",\"Item Name\"]).count()\n",
    "mp_sums = most_popular.groupby([\"Item ID\", \"Item Name\"]).sum()\n",
    "mp_price = mp_sums/mp_counts\n",
    "\n",
    "mp_counts[\"Item Price\"] = mp_price[\"Price\"]\n",
    "mp_counts[\"Total Purchase Value\"] = mp_sums[\"Price\"]\n",
    "mp_counts = mp_counts.rename(columns={\"Price\":\"Purchase Count\"})\n",
    "\n",
    "top_items = mp_counts.sort_values(by=[\"Purchase Count\"],ascending=False).head()\n",
    "\n",
    "top_items = top_items.style.format({\"Item Price\": \"${:.2f}\",\n",
    "                                    \"Total Purchase Value\": \"${:.2f}\"})\n",
    "top_items"
   ]
  },
  {
   "cell_type": "markdown",
   "metadata": {},
   "source": [
    "## Most Profitable Items"
   ]
  },
  {
   "cell_type": "markdown",
   "metadata": {},
   "source": [
    "* Sort the above table by total purchase value in descending order\n",
    "\n",
    "\n",
    "* Optional: give the displayed data cleaner formatting\n",
    "\n",
    "\n",
    "* Display a preview of the data frame\n",
    "\n"
   ]
  },
  {
   "cell_type": "code",
   "execution_count": 363,
   "metadata": {
    "scrolled": true
   },
   "outputs": [
    {
     "data": {
      "text/html": [
       "<style  type=\"text/css\" >\n",
       "</style><table id=\"T_d958df12_cf7e_11e9_8c83_f82819c80724\" ><thead>    <tr>        <th class=\"blank\" ></th>        <th class=\"blank level0\" ></th>        <th class=\"col_heading level0 col0\" >Purchase Count</th>        <th class=\"col_heading level0 col1\" >Item Price</th>        <th class=\"col_heading level0 col2\" >Total Purchase Value</th>    </tr>    <tr>        <th class=\"index_name level0\" >Item ID</th>        <th class=\"index_name level1\" >Item Name</th>        <th class=\"blank\" ></th>        <th class=\"blank\" ></th>        <th class=\"blank\" ></th>    </tr></thead><tbody>\n",
       "                <tr>\n",
       "                        <th id=\"T_d958df12_cf7e_11e9_8c83_f82819c80724level0_row0\" class=\"row_heading level0 row0\" >178</th>\n",
       "                        <th id=\"T_d958df12_cf7e_11e9_8c83_f82819c80724level1_row0\" class=\"row_heading level1 row0\" >Oathbreaker, Last Hope of the Breaking Storm</th>\n",
       "                        <td id=\"T_d958df12_cf7e_11e9_8c83_f82819c80724row0_col0\" class=\"data row0 col0\" >12</td>\n",
       "                        <td id=\"T_d958df12_cf7e_11e9_8c83_f82819c80724row0_col1\" class=\"data row0 col1\" >$4.23</td>\n",
       "                        <td id=\"T_d958df12_cf7e_11e9_8c83_f82819c80724row0_col2\" class=\"data row0 col2\" >$50.76</td>\n",
       "            </tr>\n",
       "            <tr>\n",
       "                        <th id=\"T_d958df12_cf7e_11e9_8c83_f82819c80724level0_row1\" class=\"row_heading level0 row1\" >82</th>\n",
       "                        <th id=\"T_d958df12_cf7e_11e9_8c83_f82819c80724level1_row1\" class=\"row_heading level1 row1\" >Nirvana</th>\n",
       "                        <td id=\"T_d958df12_cf7e_11e9_8c83_f82819c80724row1_col0\" class=\"data row1 col0\" >9</td>\n",
       "                        <td id=\"T_d958df12_cf7e_11e9_8c83_f82819c80724row1_col1\" class=\"data row1 col1\" >$4.90</td>\n",
       "                        <td id=\"T_d958df12_cf7e_11e9_8c83_f82819c80724row1_col2\" class=\"data row1 col2\" >$44.10</td>\n",
       "            </tr>\n",
       "            <tr>\n",
       "                        <th id=\"T_d958df12_cf7e_11e9_8c83_f82819c80724level0_row2\" class=\"row_heading level0 row2\" >145</th>\n",
       "                        <th id=\"T_d958df12_cf7e_11e9_8c83_f82819c80724level1_row2\" class=\"row_heading level1 row2\" >Fiery Glass Crusader</th>\n",
       "                        <td id=\"T_d958df12_cf7e_11e9_8c83_f82819c80724row2_col0\" class=\"data row2 col0\" >9</td>\n",
       "                        <td id=\"T_d958df12_cf7e_11e9_8c83_f82819c80724row2_col1\" class=\"data row2 col1\" >$4.58</td>\n",
       "                        <td id=\"T_d958df12_cf7e_11e9_8c83_f82819c80724row2_col2\" class=\"data row2 col2\" >$41.22</td>\n",
       "            </tr>\n",
       "            <tr>\n",
       "                        <th id=\"T_d958df12_cf7e_11e9_8c83_f82819c80724level0_row3\" class=\"row_heading level0 row3\" >92</th>\n",
       "                        <th id=\"T_d958df12_cf7e_11e9_8c83_f82819c80724level1_row3\" class=\"row_heading level1 row3\" >Final Critic</th>\n",
       "                        <td id=\"T_d958df12_cf7e_11e9_8c83_f82819c80724row3_col0\" class=\"data row3 col0\" >8</td>\n",
       "                        <td id=\"T_d958df12_cf7e_11e9_8c83_f82819c80724row3_col1\" class=\"data row3 col1\" >$4.88</td>\n",
       "                        <td id=\"T_d958df12_cf7e_11e9_8c83_f82819c80724row3_col2\" class=\"data row3 col2\" >$39.04</td>\n",
       "            </tr>\n",
       "            <tr>\n",
       "                        <th id=\"T_d958df12_cf7e_11e9_8c83_f82819c80724level0_row4\" class=\"row_heading level0 row4\" >103</th>\n",
       "                        <th id=\"T_d958df12_cf7e_11e9_8c83_f82819c80724level1_row4\" class=\"row_heading level1 row4\" >Singed Scalpel</th>\n",
       "                        <td id=\"T_d958df12_cf7e_11e9_8c83_f82819c80724row4_col0\" class=\"data row4 col0\" >8</td>\n",
       "                        <td id=\"T_d958df12_cf7e_11e9_8c83_f82819c80724row4_col1\" class=\"data row4 col1\" >$4.35</td>\n",
       "                        <td id=\"T_d958df12_cf7e_11e9_8c83_f82819c80724row4_col2\" class=\"data row4 col2\" >$34.80</td>\n",
       "            </tr>\n",
       "    </tbody></table>"
      ],
      "text/plain": [
       "<pandas.io.formats.style.Styler at 0x2067484c518>"
      ]
     },
     "execution_count": 363,
     "metadata": {},
     "output_type": "execute_result"
    }
   ],
   "source": [
    "most_profitable = mp_counts.sort_values(by=[\"Total Purchase Value\"],ascending=False).head()\n",
    "\n",
    "\n",
    "most_profitable = most_profitable.style.format({\"Item Price\": \"${:.2f}\",\n",
    "                                                \"Total Purchase Value\": \"${:.2f}\"})\n",
    "\n",
    "most_profitable"
   ]
  },
  {
   "cell_type": "code",
   "execution_count": null,
   "metadata": {},
   "outputs": [],
   "source": []
  }
 ],
 "metadata": {
  "anaconda-cloud": {},
  "kernel_info": {
   "name": "python3"
  },
  "kernelspec": {
   "display_name": "Python 3",
   "language": "python",
   "name": "python3"
  },
  "language_info": {
   "codemirror_mode": {
    "name": "ipython",
    "version": 3
   },
   "file_extension": ".py",
   "mimetype": "text/x-python",
   "name": "python",
   "nbconvert_exporter": "python",
   "pygments_lexer": "ipython3",
   "version": "3.7.3"
  },
  "latex_envs": {
   "LaTeX_envs_menu_present": true,
   "autoclose": false,
   "autocomplete": true,
   "bibliofile": "biblio.bib",
   "cite_by": "apalike",
   "current_citInitial": 1,
   "eqLabelWithNumbers": true,
   "eqNumInitial": 1,
   "hotkeys": {
    "equation": "Ctrl-E",
    "itemize": "Ctrl-I"
   },
   "labels_anchors": false,
   "latex_user_defs": false,
   "report_style_numbering": false,
   "user_envs_cfg": false
  },
  "nteract": {
   "version": "0.2.0"
  }
 },
 "nbformat": 4,
 "nbformat_minor": 2
}
